{
 "cells": [
  {
   "cell_type": "code",
   "execution_count": 24,
   "metadata": {
    "collapsed": false
   },
   "outputs": [
    {
     "name": "stdout",
     "output_type": "stream",
     "text": [
      "3.5.2 |Anaconda 4.2.0 (x86_64)| (default, Jul  2 2016, 17:52:12) \n",
      "[GCC 4.2.1 Compatible Apple LLVM 4.2 (clang-425.0.28)]\n",
      "2017-08-21\n"
     ]
    }
   ],
   "source": [
    "from __future__ import print_function\n",
    "import sys\n",
    "print(sys.version)\n",
    "import datetime\n",
    "print(datetime.datetime.now().strftime('%Y-%m-%d'))"
   ]
  },
  {
   "cell_type": "markdown",
   "metadata": {},
   "source": [
    "## CryptoAssets Blockchain\n",
    "A very simple blockchain that serves the purpose of verifying asset ownership.\n",
    "\n",
    "Blog post: https://medium.com/@agalea91/representing-an-asset-on-the-blockchain-with-python-2bd9aff7b500"
   ]
  },
  {
   "cell_type": "code",
   "execution_count": 25,
   "metadata": {
    "collapsed": true
   },
   "outputs": [],
   "source": [
    "import hashlib\n",
    "import datetime\n",
    "import json"
   ]
  },
  {
   "cell_type": "code",
   "execution_count": 26,
   "metadata": {
    "collapsed": true
   },
   "outputs": [],
   "source": [
    "class CryptoAssets():\n",
    "    def __init__(self):\n",
    "        self.blockchain = [\n",
    "            self.make_genesis_block()\n",
    "        ]\n",
    "        self.next_block_index = 1\n",
    "#         self.public_ledger = {}\n",
    "        self.public_ledger = {\n",
    "            'Alice': {'Tesla Model 3': 1, '200 shares of TSLA': 1},\n",
    "            'James': {'9425 Sunset Blvd, Beverly Hills, CA 90210': 1}\n",
    "        }\n",
    "        self.transactions = []\n",
    "\n",
    "    def mine(self):\n",
    "        '''\n",
    "        Mine a single block by hashing the transactions\n",
    "        in the cue.\n",
    "        '''\n",
    "        timestamp = str(datetime.datetime.now())\n",
    "        transactions = self.transactions\n",
    "        prev_block = self.blockchain[-1]\n",
    "\n",
    "        new_block = Block(\n",
    "            self.next_block_index,\n",
    "            timestamp,\n",
    "            transactions,\n",
    "            prev_block.hash_id\n",
    "        )\n",
    "        self.blockchain.append(new_block)\n",
    "        self.update_public_ledger(transactions)\n",
    "        \n",
    "        self.transactions = []\n",
    "        self.next_block_index += 1\n",
    "        \n",
    "    def make_genesis_block(self):\n",
    "        '''\n",
    "        Make the first block. This is done in an arbitray way.\n",
    "        '''\n",
    "        block = Block(\n",
    "            index_number=0,\n",
    "            timestamp=str(datetime.datetime.now()),\n",
    "            transactions='',\n",
    "            prev_block_hash_id=''\n",
    "        )\n",
    "        return block\n",
    "        \n",
    "    def update_public_ledger(self, transactions):\n",
    "        '''\n",
    "        Update dictionary of names and assets as key-value pairs\n",
    "        '''\n",
    "        for t in transactions:\n",
    "            # Remove the asset from the sender\n",
    "            if t.sender not in self.public_ledger.keys():\n",
    "                self.public_ledger[t.sender] = {}\n",
    "            sender = self.public_ledger[t.sender]\n",
    "            try:\n",
    "                sender[t.asset] -= 1\n",
    "            except KeyError:\n",
    "                sender[t.asset] = -1\n",
    "            if sender[t.asset] == 0:\n",
    "                del sender[t.asset]\n",
    "\n",
    "            # Add the asset to the buyer\n",
    "            if t.buyer not in self.public_ledger.keys():\n",
    "                self.public_ledger[t.buyer] = {}\n",
    "            buyer = self.public_ledger[t.buyer]\n",
    "            try:\n",
    "                buyer[t.asset] += 1\n",
    "            except KeyError:\n",
    "                buyer[t.asset] = 1"
   ]
  },
  {
   "cell_type": "code",
   "execution_count": 27,
   "metadata": {
    "collapsed": true
   },
   "outputs": [],
   "source": [
    "class Block():\n",
    "    def __init__(self, index_number, timestamp,\n",
    "                 transactions, prev_block_hash_id):\n",
    "        # Set the block attributes\n",
    "        self.index_number = index_number\n",
    "        self.timestamp = timestamp\n",
    "        self.transactions = transactions\n",
    "        self.prev_block_hash_id = prev_block_hash_id\n",
    "        \n",
    "        # Create block hash\n",
    "        self.hash_id = hashlib.sha256(\n",
    "            '{}-{}-{}-{}'.format(\n",
    "                self.index_number,\n",
    "                self.timestamp,\n",
    "                self.transactions,\n",
    "                self.prev_block_hash_id\n",
    "            ).encode('utf-8')\n",
    "        ).hexdigest()\n",
    "        \n",
    "    def __repr__(self):\n",
    "        return 'Block #{} at {}'.format(self.index_number, self.timestamp)"
   ]
  },
  {
   "cell_type": "code",
   "execution_count": 28,
   "metadata": {
    "collapsed": true
   },
   "outputs": [],
   "source": [
    "class Transaction():\n",
    "    def __init__(self, sender, buyer, asset):\n",
    "        self.sender = sender\n",
    "        self.buyer = buyer\n",
    "        self.asset = asset\n",
    "        \n",
    "    def __repr__(self):\n",
    "        return '{} ({} -> {})'.format(self.asset, self.sender, self.buyer)"
   ]
  },
  {
   "cell_type": "code",
   "execution_count": 29,
   "metadata": {
    "collapsed": false
   },
   "outputs": [],
   "source": [
    "crypto_assets = CryptoAssets()"
   ]
  },
  {
   "cell_type": "code",
   "execution_count": 30,
   "metadata": {
    "collapsed": false
   },
   "outputs": [
    {
     "name": "stdout",
     "output_type": "stream",
     "text": [
      "{\n",
      "  \"Alice\": {\n",
      "    \"Tesla Model 3\": 1,\n",
      "    \"200 shares of TSLA\": 1\n",
      "  },\n",
      "  \"James\": {\n",
      "    \"9425 Sunset Blvd, Beverly Hills, CA 90210\": 1\n",
      "  }\n",
      "}\n"
     ]
    }
   ],
   "source": [
    "print(json.dumps(\n",
    "        crypto_assets.public_ledger,\n",
    "        indent=2\n",
    "    ))"
   ]
  },
  {
   "cell_type": "code",
   "execution_count": 31,
   "metadata": {
    "collapsed": false
   },
   "outputs": [
    {
     "data": {
      "text/plain": [
       "[]"
      ]
     },
     "execution_count": 31,
     "metadata": {},
     "output_type": "execute_result"
    }
   ],
   "source": [
    "crypto_assets.transactions"
   ]
  },
  {
   "cell_type": "code",
   "execution_count": 32,
   "metadata": {
    "collapsed": false
   },
   "outputs": [],
   "source": [
    "crypto_assets.transactions.extend([\n",
    "    Transaction(\n",
    "        sender='Alice',\n",
    "        buyer='Bob',\n",
    "        asset='Tesla Model 3'\n",
    "    ),\n",
    "    Transaction(\n",
    "        sender='Alice',\n",
    "        buyer='James',\n",
    "        asset='200 shares of TSLA'\n",
    "    )\n",
    "])"
   ]
  },
  {
   "cell_type": "code",
   "execution_count": 33,
   "metadata": {
    "collapsed": false
   },
   "outputs": [
    {
     "data": {
      "text/plain": [
       "[Tesla Model 3 (Alice -> Bob), 200 shares of TSLA (Alice -> James)]"
      ]
     },
     "execution_count": 33,
     "metadata": {},
     "output_type": "execute_result"
    }
   ],
   "source": [
    "crypto_assets.transactions"
   ]
  },
  {
   "cell_type": "code",
   "execution_count": 34,
   "metadata": {
    "collapsed": false
   },
   "outputs": [],
   "source": [
    "crypto_assets.mine()"
   ]
  },
  {
   "cell_type": "code",
   "execution_count": 35,
   "metadata": {
    "collapsed": false
   },
   "outputs": [
    {
     "name": "stdout",
     "output_type": "stream",
     "text": [
      "{\n",
      "  \"Bob\": {\n",
      "    \"Tesla Model 3\": 1\n",
      "  },\n",
      "  \"Alice\": {},\n",
      "  \"James\": {\n",
      "    \"200 shares of TSLA\": 1,\n",
      "    \"9425 Sunset Blvd, Beverly Hills, CA 90210\": 1\n",
      "  }\n",
      "}\n"
     ]
    }
   ],
   "source": [
    "print(json.dumps(\n",
    "        crypto_assets.public_ledger,\n",
    "        indent=2\n",
    "    ))"
   ]
  },
  {
   "cell_type": "code",
   "execution_count": 36,
   "metadata": {
    "collapsed": false
   },
   "outputs": [
    {
     "data": {
      "text/plain": [
       "[Block #0 at 2017-08-21 23:14:31.024585,\n",
       " Block #1 at 2017-08-21 23:14:31.074297]"
      ]
     },
     "execution_count": 36,
     "metadata": {},
     "output_type": "execute_result"
    }
   ],
   "source": [
    "crypto_assets.blockchain"
   ]
  },
  {
   "cell_type": "code",
   "execution_count": 37,
   "metadata": {
    "collapsed": false
   },
   "outputs": [],
   "source": [
    "crypto_assets.transactions.extend([\n",
    "    Transaction(\n",
    "        sender='Bob',\n",
    "        buyer='James',\n",
    "        asset='Tesla Model 3'\n",
    "    ),\n",
    "    Transaction(\n",
    "        sender='James',\n",
    "        buyer='Alice',\n",
    "        asset='9425 Sunset Blvd, Beverly Hills, CA 90210'\n",
    "    )\n",
    "])"
   ]
  },
  {
   "cell_type": "code",
   "execution_count": 38,
   "metadata": {
    "collapsed": true
   },
   "outputs": [],
   "source": [
    "crypto_assets.mine()"
   ]
  },
  {
   "cell_type": "code",
   "execution_count": 39,
   "metadata": {
    "collapsed": false
   },
   "outputs": [
    {
     "name": "stdout",
     "output_type": "stream",
     "text": [
      "{\n",
      "  \"Bob\": {},\n",
      "  \"Alice\": {\n",
      "    \"9425 Sunset Blvd, Beverly Hills, CA 90210\": 1\n",
      "  },\n",
      "  \"James\": {\n",
      "    \"Tesla Model 3\": 1,\n",
      "    \"200 shares of TSLA\": 1\n",
      "  }\n",
      "}\n"
     ]
    }
   ],
   "source": [
    "print(json.dumps(\n",
    "        crypto_assets.public_ledger,\n",
    "        indent=2\n",
    "    ))"
   ]
  },
  {
   "cell_type": "code",
   "execution_count": 40,
   "metadata": {
    "collapsed": false
   },
   "outputs": [
    {
     "data": {
      "text/plain": [
       "[Block #0 at 2017-08-21 23:14:31.024585,\n",
       " Block #1 at 2017-08-21 23:14:31.074297,\n",
       " Block #2 at 2017-08-21 23:14:31.114341]"
      ]
     },
     "execution_count": 40,
     "metadata": {},
     "output_type": "execute_result"
    }
   ],
   "source": [
    "crypto_assets.blockchain"
   ]
  },
  {
   "cell_type": "code",
   "execution_count": 41,
   "metadata": {
    "collapsed": false
   },
   "outputs": [
    {
     "data": {
      "text/html": [
       "<div>\n",
       "<table border=\"1\" class=\"dataframe\">\n",
       "  <thead>\n",
       "    <tr style=\"text-align: right;\">\n",
       "      <th></th>\n",
       "      <th>Transactions</th>\n",
       "      <th>Block Hash</th>\n",
       "    </tr>\n",
       "    <tr>\n",
       "      <th>Block Index</th>\n",
       "      <th></th>\n",
       "      <th></th>\n",
       "    </tr>\n",
       "  </thead>\n",
       "  <tbody>\n",
       "    <tr>\n",
       "      <th>0</th>\n",
       "      <td></td>\n",
       "      <td>2431dd05619e0ad6cedd3d80a63c4cec4ae0cc832c080f...</td>\n",
       "    </tr>\n",
       "    <tr>\n",
       "      <th>1</th>\n",
       "      <td>[Tesla Model 3 (Alice -&gt; Bob), 200 shares of T...</td>\n",
       "      <td>cb42342039e209c601d5f127b060828868d39fb545c61c...</td>\n",
       "    </tr>\n",
       "    <tr>\n",
       "      <th>2</th>\n",
       "      <td>[Tesla Model 3 (Bob -&gt; James), 9425 Sunset Blv...</td>\n",
       "      <td>2a48ed83860e85b34d50b28906fe726f2458d4af9f4610...</td>\n",
       "    </tr>\n",
       "  </tbody>\n",
       "</table>\n",
       "</div>"
      ],
      "text/plain": [
       "                                                  Transactions  \\\n",
       "Block Index                                                      \n",
       "0                                                                \n",
       "1            [Tesla Model 3 (Alice -> Bob), 200 shares of T...   \n",
       "2            [Tesla Model 3 (Bob -> James), 9425 Sunset Blv...   \n",
       "\n",
       "                                                    Block Hash  \n",
       "Block Index                                                     \n",
       "0            2431dd05619e0ad6cedd3d80a63c4cec4ae0cc832c080f...  \n",
       "1            cb42342039e209c601d5f127b060828868d39fb545c61c...  \n",
       "2            2a48ed83860e85b34d50b28906fe726f2458d4af9f4610...  "
      ]
     },
     "execution_count": 41,
     "metadata": {},
     "output_type": "execute_result"
    }
   ],
   "source": [
    "import pandas as pd\n",
    "df = pd.DataFrame([(block.transactions, block.hash_id) for block in crypto_assets.blockchain],\n",
    "                  index=[block.index_number for block in crypto_assets.blockchain],\n",
    "                  columns=['Transactions', 'Block Hash'])\n",
    "df.index.name = 'Block Index'\n",
    "df"
   ]
  },
  {
   "cell_type": "code",
   "execution_count": 42,
   "metadata": {
    "collapsed": false
   },
   "outputs": [
    {
     "data": {
      "text/html": [
       "<table border=\"1\" class=\"dataframe\">\n",
       "  <thead>\n",
       "    <tr style=\"text-align: right;\">\n",
       "      <th>Index Number</th>\n",
       "      <th>Transactions</th>\n",
       "      <th>Block Hash</th>\n",
       "    </tr>\n",
       "  </thead>\n",
       "  <tbody>\n",
       "    <tr>\n",
       "      <td>0</td>\n",
       "      <td></td>\n",
       "      <td>2431dd05619e0ad6cedd3d80a63c4cec4ae0cc832c080f...</td>\n",
       "    </tr>\n",
       "    <tr>\n",
       "      <td>1</td>\n",
       "      <td>[Tesla Model 3 (Alice -&gt; Bob), 200 shares of T...</td>\n",
       "      <td>cb42342039e209c601d5f127b060828868d39fb545c61c...</td>\n",
       "    </tr>\n",
       "    <tr>\n",
       "      <td>2</td>\n",
       "      <td>[Tesla Model 3 (Bob -&gt; James), 9425 Sunset Blv...</td>\n",
       "      <td>2a48ed83860e85b34d50b28906fe726f2458d4af9f4610...</td>\n",
       "    </tr>\n",
       "  </tbody>\n",
       "</table>"
      ],
      "text/plain": [
       "<IPython.core.display.HTML object>"
      ]
     },
     "execution_count": 42,
     "metadata": {},
     "output_type": "execute_result"
    }
   ],
   "source": [
    "from IPython.display import HTML \n",
    "\n",
    "df = pd.DataFrame([(block.index_number, block.transactions, block.hash_id) for block in crypto_assets.blockchain],\n",
    "                  columns=['Index Number', 'Transactions', 'Block Hash'])\n",
    "HTML(df.to_html(index=False))"
   ]
  },
  {
   "cell_type": "markdown",
   "metadata": {},
   "source": [
    "---\n",
    "Let's say Alice claims that she never sold the car to Bob. Bob can reference their transaction on the blockchain (in block #1). He can verify it's authenticity by confirming the hash for that block. In this case the calculation would go as follows:\n",
    "\n",
    "---"
   ]
  },
  {
   "cell_type": "code",
   "execution_count": 43,
   "metadata": {
    "collapsed": false
   },
   "outputs": [],
   "source": [
    "real_transactions = [\n",
    "    Transaction(\n",
    "        sender='Alice',\n",
    "        buyer='Bob',\n",
    "        asset='Tesla Model 3'\n",
    "    ),\n",
    "    Transaction(\n",
    "        sender='Alice',\n",
    "        buyer='James',\n",
    "        asset='200 shares of TSLA'\n",
    "    )\n",
    "]"
   ]
  },
  {
   "cell_type": "code",
   "execution_count": 44,
   "metadata": {
    "collapsed": false
   },
   "outputs": [
    {
     "data": {
      "text/plain": [
       "'cb42342039e209c601d5f127b060828868d39fb545c61c4cc1ae157f5c5b791d'"
      ]
     },
     "execution_count": 44,
     "metadata": {},
     "output_type": "execute_result"
    }
   ],
   "source": [
    "hashlib.sha256(\n",
    "    '{}-{}-{}-{}'.format(\n",
    "        crypto_assets.blockchain[1].index_number,\n",
    "        crypto_assets.blockchain[1].timestamp,\n",
    "        real_transactions,\n",
    "        crypto_assets.blockchain[1].prev_block_hash_id\n",
    "    ).encode('utf-8')\n",
    ").hexdigest()"
   ]
  },
  {
   "cell_type": "markdown",
   "metadata": {},
   "source": [
    "---\n",
    "Indeed the hash matches, hence the transaction has been verified. To really hammer home the point to Alice, Bob could also find out what the hash would have been if she indeed did not transfer the car. He would calculate this as follows:\n",
    "\n",
    "---"
   ]
  },
  {
   "cell_type": "code",
   "execution_count": 45,
   "metadata": {
    "collapsed": true
   },
   "outputs": [],
   "source": [
    "claimed_transactions = [\n",
    "    Transaction(\n",
    "        sender='Alice',\n",
    "        buyer='James',\n",
    "        asset='200 shares of TSLA'\n",
    "    ),\n",
    "    Transaction(\n",
    "        sender='James',\n",
    "        buyer='Alice',\n",
    "        asset='9425 Sunset Blvd, Beverly Hills, CA 90210'\n",
    "    )\n",
    "]"
   ]
  },
  {
   "cell_type": "code",
   "execution_count": 46,
   "metadata": {
    "collapsed": false
   },
   "outputs": [
    {
     "data": {
      "text/plain": [
       "'acb77092c9393e6119e59250e34d50409007ccd7cc85c9099d8869155b29b8bc'"
      ]
     },
     "execution_count": 46,
     "metadata": {},
     "output_type": "execute_result"
    }
   ],
   "source": [
    "hashlib.sha256(\n",
    "    '{}-{}-{}-{}'.format(\n",
    "        crypto_assets.blockchain[1].index_number,\n",
    "        crypto_assets.blockchain[1].timestamp,\n",
    "        claimed_transactions,\n",
    "        crypto_assets.blockchain[1].prev_block_hash_id\n",
    "    ).encode('utf-8')\n",
    ").hexdigest()"
   ]
  },
  {
   "cell_type": "code",
   "execution_count": null,
   "metadata": {
    "collapsed": true
   },
   "outputs": [],
   "source": []
  }
 ],
 "metadata": {
  "anaconda-cloud": {},
  "kernelspec": {
   "display_name": "Python [default]",
   "language": "python",
   "name": "python3"
  },
  "language_info": {
   "codemirror_mode": {
    "name": "ipython",
    "version": 3
   },
   "file_extension": ".py",
   "mimetype": "text/x-python",
   "name": "python",
   "nbconvert_exporter": "python",
   "pygments_lexer": "ipython3",
   "version": "3.5.2"
  }
 },
 "nbformat": 4,
 "nbformat_minor": 1
}
